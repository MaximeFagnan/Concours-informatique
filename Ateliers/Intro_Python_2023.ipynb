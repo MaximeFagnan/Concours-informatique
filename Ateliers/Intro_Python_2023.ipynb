{
 "cells": [
  {
   "cell_type": "markdown",
   "metadata": {
    "slideshow": {
     "slide_type": "slide"
    }
   },
   "source": [
    "# Atelier d'introduction à la programmation en Python"
   ]
  },
  {
   "cell_type": "markdown",
   "metadata": {
    "slideshow": {
     "slide_type": "slide"
    }
   },
   "source": [
    "## Introduction\n",
    "Bienvenue à cet atelier d'introduction à la programmation en Python ! Au cours de cette session, nous explorerons les bases de la programmation en Python et apprendrons comment résoudre des problèmes mathématiques et informatiques!\n",
    "\n",
    "Nous allons couvrir les concepts de base de Python, y compris les variables, les fonctions, les structures de contrôle et la programmation orientée objet. Ensuite, nous aborderons la résolution de problèmes, en mettant en pratique ce que nous avons appris.\n",
    "\n",
    "**Objectifs de l'atelier :**\n",
    "- Comprendre les fondamentaux de la programmation en Python.\n",
    "- Résoudre des problèmes mathématiques et informatiques en utilisant Python\n",
    "\n",
    "\n"
   ]
  },
  {
   "cell_type": "markdown",
   "metadata": {
    "slideshow": {
     "slide_type": "slide"
    }
   },
   "source": [
    "# Concepts de Base"
   ]
  },
  {
   "cell_type": "markdown",
   "metadata": {
    "slideshow": {
     "slide_type": "subslide"
    }
   },
   "source": [
    "\n",
    "## Les Variables\n",
    "\n",
    "En Python, une variable est un conteneur qui permet de stocker des données. Ces données peuvent être de différents types, tels que des nombres, des chaînes de caractères, des listes, etc. Les variables sont essentielles pour manipuler et traiter des informations dans un programme.\n",
    "\n",
    "Pour déclarer une variable en Python, utilisez le nom de la variable suivi d'un signe égal (`=`) pour lui attribuer une valeur. Voici un exemple simple :\n"
   ]
  },
  {
   "cell_type": "code",
   "execution_count": 3,
   "metadata": {
    "slideshow": {
     "slide_type": "fragment"
    }
   },
   "outputs": [
    {
     "name": "stdout",
     "output_type": "stream",
     "text": [
      "6\n"
     ]
    }
   ],
   "source": [
    "x = 6\n",
    "print(x)"
   ]
  },
  {
   "cell_type": "markdown",
   "metadata": {
    "slideshow": {
     "slide_type": "subslide"
    }
   },
   "source": [
    "### Types de Données\n",
    "\n",
    "Python prend en charge différents types de données, notamment :\n",
    "\n",
    "- Entiers (int) : Pour stocker des nombres entiers.\n",
    "- Décimaux (float) : Pour stocker des nombres décimaux.\n",
    "- Chaînes de Caractères (str) : Pour stocker du texte.\n",
    "- Listes (list) : Pour stocker une collection d'éléments.\n",
    "- Booléens (bool) : Pour stocker des valeurs True ou False.\n",
    "\n",
    "Voici quelques exemples de déclaration de variables avec différents types de données :"
   ]
  },
  {
   "cell_type": "code",
   "execution_count": null,
   "metadata": {
    "slideshow": {
     "slide_type": "fragment"
    }
   },
   "outputs": [],
   "source": [
    "age = 25       # Entier\n",
    "prix = 19.99   # Décimal\n",
    "nom = \"Alice\"  # Chaîne de caractères\n",
    "liste = [1, 2, 3]  # Liste\n",
    "est_vrai = True   # Booléen\n",
    "est_faux = False  # Booléen"
   ]
  },
  {
   "cell_type": "markdown",
   "metadata": {
    "slideshow": {
     "slide_type": "subslide"
    }
   },
   "source": [
    "**Opérateurs Arithmétiques :**\n",
    "  - `+` : Addition. \n",
    "       - Exemple : `5 + 3` donne `8`.\n",
    "  - `-` : Soustraction.\n",
    "       - Exemple : `10 - 4` donne `6`.\n",
    "  - `*` : Multiplication. \n",
    "       - Exemple : `3 * 2` donne `6`.\n",
    "  - `/` : Division. \n",
    "       - Exemple : `16 / 3` donne `4.33333333333` (résultat en `float`).\n",
    "  - `//` : Division entière.\n",
    "       - Exemple : `16 // 3` donne `5` (résultat en `int`).\n",
    "  - `%` : Modulo (reste de la division).\n",
    "       - Exemple : `16 % 3` donne `1`.\n",
    "  -  `**` : Puissance.\n",
    "       - Exemple : `2**5` donne `32`."
   ]
  },
  {
   "cell_type": "code",
   "execution_count": 2,
   "metadata": {
    "slideshow": {
     "slide_type": "subslide"
    }
   },
   "outputs": [
    {
     "name": "stdout",
     "output_type": "stream",
     "text": [
      "Bonjour Alice\n"
     ]
    }
   ],
   "source": [
    "# Pratiquons nous!\n",
    "age = 25       # Entier\n",
    "prix = 19.99   # Décimal\n",
    "nom = \"Alice\"  # Chaîne de caractères\n",
    "liste = [1, 2, 3]  # Liste\n",
    "est_vrai = True   # Booléen\n",
    "est_faux = False  # Booléen\n",
    "\n",
    "\n",
    "print(\"Bonjour \" + nom )"
   ]
  },
  {
   "cell_type": "markdown",
   "metadata": {
    "slideshow": {
     "slide_type": "slide"
    }
   },
   "source": [
    "## Introduction aux Fonctions\n",
    "\n",
    "Une fonction est un bloc de code réutilisable qui effectue une tâche spécifique. Les fonctions sont essentielles pour organiser et structurer votre code, car elles vous permettent de découper votre programme en morceaux gérables.\n",
    "\n",
    "En Python, vous pouvez définir vos propres fonctions à l'aide du mot-clé `def`. Voici un exemple simple de définition de fonction :\n",
    "\n"
   ]
  },
  {
   "cell_type": "code",
   "execution_count": null,
   "metadata": {
    "slideshow": {
     "slide_type": "fragment"
    }
   },
   "outputs": [],
   "source": [
    "def saluer(nom):\n",
    "    \"\"\"Cette fonction affiche un message de salutation.\"\"\"\n",
    "    print(f\"Bonjour, {nom} !\")"
   ]
  },
  {
   "cell_type": "code",
   "execution_count": null,
   "metadata": {
    "slideshow": {
     "slide_type": "fragment"
    }
   },
   "outputs": [],
   "source": [
    "# On peut maintenant saluer n'importe qui!\n",
    "saluer(variable)"
   ]
  },
  {
   "cell_type": "markdown",
   "metadata": {
    "slideshow": {
     "slide_type": "subslide"
    }
   },
   "source": [
    "On peut aussi faire des fonctions qui font des trucs plus utiles. Par exemple, on peut calculer la longueur de l'hypothénuse d'un triangle rectangle à partir des longueurs des cathètes."
   ]
  },
  {
   "cell_type": "code",
   "execution_count": null,
   "metadata": {
    "slideshow": {
     "slide_type": "fragment"
    }
   },
   "outputs": [],
   "source": [
    "def hypothenuse(cathete_1, cathete_2) :\n",
    "    # ajoutons une ligne de code pour obtenir la réponse\n",
    "    reponse = (cathete_1**2 + cathete_2**2)**(1/2)\n",
    "    return reponse\n",
    "x= hypothenuse(3,4)\n",
    "\n",
    "print(x+2)"
   ]
  },
  {
   "cell_type": "code",
   "execution_count": null,
   "metadata": {
    "slideshow": {
     "slide_type": "fragment"
    }
   },
   "outputs": [],
   "source": [
    "# on peut calculer des valeurs d'hypothénuses en rafale et les conserver dans une liste.\n",
    "liste = [hypothenuse(3,4), hypothenuse(12, 35), hypothenuse(1,1)]\n",
    "print(liste)\n",
    "\n",
    "# for hyp in liste:\n",
    "#     print(hyp)"
   ]
  },
  {
   "cell_type": "markdown",
   "metadata": {
    "slideshow": {
     "slide_type": "slide"
    }
   },
   "source": [
    "## Les Structures de Contrôle\n",
    "\n"
   ]
  },
  {
   "cell_type": "markdown",
   "metadata": {
    "slideshow": {
     "slide_type": "subslide"
    }
   },
   "source": [
    "### Opérateurs de Comparaison\n",
    "\n",
    "Avant d'explorer les structures de contrôle `if` et `else`, il est important de comprendre les opérateurs de comparaison en Python. Ces opérateurs sont utilisés pour comparer des valeurs et prendre des décisions en fonction des résultats de ces comparaisons.\n",
    "\n",
    "Voici quelques opérateurs couramment utilisés :"
   ]
  },
  {
   "cell_type": "markdown",
   "metadata": {
    "slideshow": {
     "slide_type": "subslide"
    }
   },
   "source": [
    "\n",
    "**Opérateurs de Comparaison :**\n",
    "- **`==` : Égal à** - Vérifie si deux valeurs sont égales.\n",
    "- **`!=` : Différent de** - Vérifie si deux valeurs ne sont pas égales.\n",
    "- **`<` : Inférieur à** - Vérifie si une valeur est inférieure à une autre.\n",
    "- **`>` : Supérieur à** - Vérifie si une valeur est supérieure à une autre.\n",
    "- **`<=` : Inférieur ou égal à** - Vérifie si une valeur est inférieure ou égale à une autre.\n",
    "- **`>=` : Supérieur ou égal à** - Vérifie si une valeur est supérieure ou égale à une autre.\n"
   ]
  },
  {
   "cell_type": "code",
   "execution_count": null,
   "metadata": {
    "slideshow": {
     "slide_type": "fragment"
    }
   },
   "outputs": [],
   "source": [
    "# Exécutons quelques exemples\n",
    "print(\"Alice\" != nom)"
   ]
  },
  {
   "cell_type": "markdown",
   "metadata": {
    "slideshow": {
     "slide_type": "subslide"
    }
   },
   "source": [
    "**Opérateurs Logiques :**\n",
    "  - `and` : ET logique. \n",
    "    - Exemple : `True and False` donne `False`.\n",
    "  - `or` : OU logique. \n",
    "    - Exemple : `True or False` donne `True`.\n",
    "  - `not` : NON logique. \n",
    "    - Exemple : `not True` donne `False`."
   ]
  },
  {
   "cell_type": "code",
   "execution_count": null,
   "metadata": {
    "slideshow": {
     "slide_type": "fragment"
    }
   },
   "outputs": [],
   "source": [
    "# Exécutons quelques exemples!\n",
    "print(False and False)\n",
    "print(True and True)\n",
    "print(3<5 and nom==\"Alice\")"
   ]
  },
  {
   "cell_type": "markdown",
   "metadata": {
    "slideshow": {
     "slide_type": "slide"
    }
   },
   "source": [
    "### Conditions (if, else)\n",
    "\n",
    "Les structures de contrôle permettent de gérer le flux d'exécution d'un programme. En Python, vous pouvez utiliser des instructions `if` et `else` pour prendre des décisions conditionnelles.\n",
    "\n",
    "Voici un exemple d'une structure `if` simple :"
   ]
  },
  {
   "cell_type": "code",
   "execution_count": null,
   "metadata": {
    "slideshow": {
     "slide_type": "fragment"
    }
   },
   "outputs": [],
   "source": [
    "age = int(input())\n",
    "\n",
    "if age >= 18:\n",
    "    print(\"Vous êtes majeur.\")\n",
    "else:\n",
    "    print(\"Vous êtes mineur.\")"
   ]
  },
  {
   "cell_type": "code",
   "execution_count": null,
   "metadata": {
    "slideshow": {
     "slide_type": "subslide"
    }
   },
   "outputs": [],
   "source": [
    "est_robot = input(\"Êtes vous un robot?\\n\")\n",
    "\n",
    "# Comment vérifier si quelqu'un est un robot?\n",
    "if est_robot == \"non\":\n",
    "    print(\"C'est ce qu'un robot dirait\")\n",
    "elif est_robot == \"oui\":\n",
    "    print(\"Je le savais!\")\n",
    "else:\n",
    "    print(\"Répondre 'non' ou 'oui'\")"
   ]
  },
  {
   "cell_type": "markdown",
   "metadata": {
    "slideshow": {
     "slide_type": "slide"
    }
   },
   "source": [
    "### Boucles\n",
    "Les boucles sont utilisées pour répéter des actions plusieurs fois. Python prend en charge deux types de boucles : for et while. \n",
    "\n",
    "Voici un exemple d'une boucle for qui parcourt une liste de nombres et les affiche:"
   ]
  },
  {
   "cell_type": "code",
   "execution_count": null,
   "metadata": {
    "slideshow": {
     "slide_type": "fragment"
    }
   },
   "outputs": [],
   "source": [
    "nombres = [1, 2, 3, 4, 5]\n",
    "for i in nombres:\n",
    "    print(2*i)\n"
   ]
  },
  {
   "cell_type": "markdown",
   "metadata": {
    "slideshow": {
     "slide_type": "subslide"
    }
   },
   "source": [
    "Certaines variables, fonctions, et objets sont déjà prêts a être utilisés dans Python. Python possède une bibliothèque intéressante par défaut, et certains éléments mathématiques peuvent-être importés pour de la fonctionalitée additionnelle."
   ]
  },
  {
   "cell_type": "code",
   "execution_count": null,
   "metadata": {
    "slideshow": {
     "slide_type": "fragment"
    }
   },
   "outputs": [],
   "source": [
    "for i in range(12,5,-2):\n",
    "    print(i)"
   ]
  },
  {
   "cell_type": "code",
   "execution_count": null,
   "metadata": {
    "slideshow": {
     "slide_type": "fragment"
    }
   },
   "outputs": [],
   "source": [
    "import numpy\n",
    "print(numpy.sin(numpy.pi))"
   ]
  },
  {
   "cell_type": "markdown",
   "metadata": {
    "slideshow": {
     "slide_type": "subslide"
    }
   },
   "source": [
    "Un autre type de boucle intéressante est la boucle while qui a un format un peu différent."
   ]
  },
  {
   "cell_type": "code",
   "execution_count": null,
   "metadata": {
    "slideshow": {
     "slide_type": "fragment"
    }
   },
   "outputs": [],
   "source": [
    "i = 10\n",
    "# while i>0:\n",
    "#     print(i)\n",
    "#     i = i-2\n",
    "\n",
    "# Code équivalent\n",
    "i = 11\n",
    "while True:\n",
    "    i = i-1\n",
    "    # On regarde si i est impair\n",
    "    if i % 2 == 1 : \n",
    "        # si i est impair, passer à la prochaine itération\n",
    "        continue\n",
    "    print(i)\n",
    "    if i <= 0:\n",
    "        break"
   ]
  },
  {
   "cell_type": "markdown",
   "metadata": {
    "slideshow": {
     "slide_type": "slide"
    }
   },
   "source": [
    "## Résolution de Problèmes\n",
    "\n",
    "### Problèmes Mathématiques\n",
    "\n",
    "L'une des meilleures façons d'apprendre la programmation est de résoudre des problèmes concrets. En Python, vous pouvez résoudre divers problèmes mathématiques et informatiques de manière élégante."
   ]
  },
  {
   "cell_type": "markdown",
   "metadata": {
    "slideshow": {
     "slide_type": "subslide"
    }
   },
   "source": [
    "#### Exemple 1 : Vérification des Nombres Premiers\n",
    "Un autre problème intéressant est la vérification des nombres premiers. Un nombre premier est un nombre qui n'a que deux diviseurs : 1 et lui-même. Voici comment vous pourriez vérifier si un nombre donné n est premier en Python :"
   ]
  },
  {
   "cell_type": "code",
   "execution_count": null,
   "metadata": {
    "slideshow": {
     "slide_type": "fragment"
    }
   },
   "outputs": [],
   "source": [
    "# codons ensemble\n",
    "def est_premier(n):\n",
    "    for i in range(2,n):\n",
    "        # Si i divise n:\n",
    "        if n%i == 0:\n",
    "            # alors n n'est pas premier\n",
    "            return False\n",
    "    #aucun nombres ne divisaient n\n",
    "    return True\n",
    "\n",
    "est_premier(12119)"
   ]
  },
  {
   "cell_type": "markdown",
   "metadata": {
    "slideshow": {
     "slide_type": "subslide"
    }
   },
   "source": [
    "<u>Défi :</u> Trouver le Prochain Nombre Premier\n",
    "\n",
    "En utilisant la fonction <code>est_premier</code>, vous pouvez trouver le prochain nombre premier après un nombre donné. Par exemple, si le nombre donné est 17, le prochain nombre premier est 19."
   ]
  },
  {
   "cell_type": "code",
   "execution_count": null,
   "metadata": {
    "slideshow": {
     "slide_type": "fragment"
    }
   },
   "outputs": [],
   "source": [
    "# à vous de jouer (Solution vu ensemble)\n",
    "def prochain_premier(n):\n",
    "    n=n+1\n",
    "    #augmentons n jusqu'à ce qu'il soit premier\n",
    "    while not est_premier(n):\n",
    "        n=n+1\n",
    "    #on sort de la boucle while, alors n est maintenant premier\n",
    "    return n\n",
    "\n",
    "print( prochain_premier(81) )"
   ]
  },
  {
   "cell_type": "markdown",
   "metadata": {
    "slideshow": {
     "slide_type": "slide"
    }
   },
   "source": [
    "#### Exemple 2 : Suite de Fibonacci\n",
    "\n",
    "La suite de Fibonacci est une séquence mathématique où chaque nombre est la somme des deux précédents (0, 1, 1, 2, 3, 5, 8, 13, ...). Voici comment vous pourriez la calculer en Python :\n"
   ]
  },
  {
   "cell_type": "code",
   "execution_count": null,
   "metadata": {
    "slideshow": {
     "slide_type": "fragment"
    }
   },
   "outputs": [],
   "source": [
    "# codons ensemble\n",
    "\n",
    "def fibonacci(n):\n",
    "    #cas de base\n",
    "    if n==1 or n==2: \n",
    "        # fibonacci(0) = 0\n",
    "        return n\n",
    "    else:\n",
    "        return fibonacci(n-1) + fibonacci(n-2)\n",
    "\n",
    "fibonacci(7)"
   ]
  },
  {
   "cell_type": "markdown",
   "metadata": {
    "slideshow": {
     "slide_type": "subslide"
    }
   },
   "source": [
    "Pratiquez-vous à écrire du code similaire avec un exemple classique:\n",
    "\n",
    "$n!=1 \\cdot 2\\cdot 3 \\cdots (n-1) \\cdot n$"
   ]
  },
  {
   "cell_type": "code",
   "execution_count": null,
   "metadata": {
    "slideshow": {
     "slide_type": "fragment"
    }
   },
   "outputs": [],
   "source": [
    "def fact(n):\n",
    "    # à vous de jouer\n",
    "    return"
   ]
  },
  {
   "cell_type": "markdown",
   "metadata": {
    "slideshow": {
     "slide_type": "slide"
    }
   },
   "source": [
    "#### Exemple 2.1: Le Problème des Performances\n",
    "\n",
    "Lorsque nous utilisons des méthodes naives pour résoudre certains problèmes, comme le calcul de la suite de Fibonacci, nous pouvons rapidement rencontrer des problèmes de performances, en particulier pour de grandes valeurs de n. Le calcul devient extrêmement lent, même pour une machine puissante.\n",
    "\n",
    "Ce problème survient car nous recalculons fréquemment les mêmes valeurs intermédiaires de la suite, ce qui entraîne un gaspillage de temps de calcul.\n",
    "\n",
    "Heureusement, il existe une meilleure approche : nous pouvons utiliser un tableau (ou une liste en Python) pour mémoriser toutes les valeurs que nous avons déjà calculées. Cette technique, appelée \"programmation dynamique\", permet d'éviter les recalculs inutiles et d'améliorer considérablement les performances de notre algorithme.\n",
    "\n",
    "Nous allons explorer cette approche dans la prochaine section.\n"
   ]
  },
  {
   "cell_type": "code",
   "execution_count": null,
   "metadata": {
    "slideshow": {
     "slide_type": "subslide"
    }
   },
   "outputs": [],
   "source": [
    "# codons ensemble\n",
    "def fibonacci(n):\n",
    "    nombres_de_fib=[0,1]\n",
    "    n=n-2\n",
    "    while n>0:\n",
    "        n=n-1\n",
    "        x_1=nombres_de_fib[-1] #dernière valeur de la liste\n",
    "        x_2=nombres_de_fib[-2] #avant-dernière valeur\n",
    "        nombres_de_fib.append( x_1 + x_2 )\n",
    "    return nombres_de_fib[-1]\n",
    "\n",
    "print(fibonacci(1000))"
   ]
  },
  {
   "cell_type": "markdown",
   "metadata": {
    "slideshow": {
     "slide_type": "slide"
    }
   },
   "source": [
    "#### À vous de jouer.\n",
    "\n",
    "Êtes-vous capable de faire de la \"programmation dynamique\" pour accélérer la fonction <code>prochain_premier</code> ? Je vous laisse dormir là-dessus. Envoyez moi vos solutions par Mio ou à [maxime.fagnan@brebeuf.qc.ca](mailto:maxime.fagnan@brebeuf.qc.ca) ."
   ]
  },
  {
   "cell_type": "code",
   "execution_count": null,
   "metadata": {
    "slideshow": {
     "slide_type": "fragment"
    }
   },
   "outputs": [],
   "source": [
    "# à vous de jouer"
   ]
  },
  {
   "cell_type": "markdown",
   "metadata": {
    "slideshow": {
     "slide_type": "slide"
    }
   },
   "source": [
    "## Des ressources additionnelles\n",
    "\n",
    "Si vous désirez en apprendre plus sur la programmation en Python, voici quelques ressources que je peux recommander.\n",
    "\n",
    "* [Kaggle](https://www.kaggle.com/learn/python): Kaggle offre une courte formation de 5h (en anglais) sur les rudiments de la programmation en Python. Le format Notebook en lige vous permettra de mettre en pratique vos nouvelles compétences rapidement avec des exercices soigneusement choisis. Cette formation est tout ce que vous avez besoin pour débuter.\n",
    "\n",
    "* [Harvard CS50P (ou CS50X)](https://cs50.harvard.edu/python/2022/): L'université de Harvard à mis sur pieds deux cours d'introduction à la programmation (CS50P en Python et CS50X avec une diversité de langage). Cette ressource propose un cours complet de 10 semaines avec une introduction plus formelle à la programmation et une séquence d'exercices appropriés. Ce cours est absolument recommandé, Harvard à fait un excellent travail de vulgarisation avec ce cours gratuit! \n",
    "\n",
    "* [CCI](https://cemc.uwaterloo.ca/contests/past_contests.html#ccc): le Concours Canadien d'Informatique, organisé par l'université de Waterloo est une excellente source de motivation et les concours des années passées vous offre une source inépuisable de problèmes pour vous pratiquer. De plus, tous les problèmes ont une traduction française! Envoyez-moi un message pour activer un compte et vous allez pouvoir utiliser cccgrader.com pour vérifier vos solutions.\n",
    "\n",
    "* [CodeWars](https://www.codewars.com/): Cette plateforme vous laisse mettre en pratique vos compétences (de débutant à expert) avec des questions défis un peu comme les concours d'informatique. Vous êtes encouragés à créer un profil et d'ajuster votre clan à *Brébeuf* comme ça nous pourrons partager nos réussites ensemble.\n",
    "\n"
   ]
  }
 ],
 "metadata": {
  "celltoolbar": "Slideshow",
  "kernelspec": {
   "display_name": "Python 3 (ipykernel)",
   "language": "python",
   "name": "python3"
  },
  "language_info": {
   "codemirror_mode": {
    "name": "ipython",
    "version": 3
   },
   "file_extension": ".py",
   "mimetype": "text/x-python",
   "name": "python",
   "nbconvert_exporter": "python",
   "pygments_lexer": "ipython3",
   "version": "3.11.4"
  }
 },
 "nbformat": 4,
 "nbformat_minor": 2
}
